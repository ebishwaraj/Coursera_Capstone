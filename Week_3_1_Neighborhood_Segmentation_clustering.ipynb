{
 "cells": [
  {
   "cell_type": "markdown",
   "metadata": {
    "id": "aBMHSSMM8EF0"
   },
   "source": [
    "<a href=\"https://www.bigdatauniversity.com\"><img src=\"https://ibm.box.com/shared/static/cw2c7r3o20w9zn8gkecaeyjhgw3xdgbj.png\" width=\"400\" align=\"center\"></a>\n",
    "\n",
    "\n",
    "\n",
    "\n",
    "<h1 align=\"center\"><font size=\"5\"> Data Science Professional Certificate - Capstone: Week 3 \n",
    "\n",
    "Neighborhood Segmentation and Clustering - Toronto \\\n",
    "Part -1 </font></h1>"
   ]
  },
  {
   "cell_type": "markdown",
   "metadata": {
    "id": "CBh8e-J9HU7e"
   },
   "source": [
    "## Instructions:\n",
    "\n",
    "In this assignment, you will be required to explore, segment, and cluster the neighborhoods in the city of Toronto based on the postalcode and borough information.. However, unlike New York, the neighborhood data is not readily available on the internet. What is interesting about the field of data science is that each project can be challenging in its unique way, so you need to learn to be agile and refine the skill to learn new libraries and tools quickly depending on the project.\n",
    "\n",
    "For the Toronto neighborhood data, a Wikipedia page exists that has all the information we need to explore and cluster the neighborhoods in Toronto. You will be required to scrape the Wikipedia page and wrangle the data, clean it, and then read it into a pandas  dataframe so that it is in a structured format like the New York dataset.\n",
    "\n",
    "Once the data is in a structured format, you can replicate the analysis that we did to the New York City dataset to explore and cluster the neighborhoods in the city of Toronto.\n",
    "\n",
    "Your submission will be a link to your Jupyter Notebook on your Github repository.\n",
    "\n",
    "**Note:** There are different website scraping libraries and packages in Python. For scraping the above table, you can simply use pandas  to read the table into a pandas dataframe.\n",
    "\n",
    "Another way, which would help to learn for more complicated cases of web scraping is using the BeautifulSoup package. Here is the package's main documentation page: http://beautiful-soup-4.readthedocs.io/en/latest/\n",
    "\n",
    "Use pandas, or the BeautifulSoup package, or any other way you are comfortable with to transform the data in the table on the Wikipedia page into the above pandas dataframe."
   ]
  },
  {
   "cell_type": "markdown",
   "metadata": {
    "id": "oR5W-NJPJXAO"
   },
   "source": [
    "### Requirement of the Dataframe\n",
    "* The dataframe will consist of three columns: PostalCode, Borough, and Neighborhood\n",
    "* Only process the cells that have an assigned borough. Ignore cells with a borough that is Not assigned.\n",
    "* More than one neighborhood can exist in one postal code area. For example, in the table on the Wikipedia page, you will notice that M5A is listed twice and has two neighborhoods: Harbourfront and Regent Park. These two rows will be combined into one row with the neighborhoods separated with a comma as shown in row 11  in the above table.\n",
    "* If a cell has a borough but a Not assigned  neighborhood, then the neighborhood will be the same as the borough.\n",
    "* Clean your Notebook and add Markdown cells to explain your work and any assumptions you are making.\n",
    "* In the last cell of your notebook, use the .shape method to print the number of rows of your dataframe."
   ]
  },
  {
   "cell_type": "markdown",
   "metadata": {
    "id": "DdrKxIPAKGpw"
   },
   "source": [
    "**Import Libraries**"
   ]
  },
  {
   "cell_type": "code",
   "execution_count": 1,
   "metadata": {
    "colab": {
     "base_uri": "https://localhost:8080/"
    },
    "id": "By4h1xGYKGRR",
    "outputId": "0a3b8871-dfff-47d3-ee89-0ee981a6e7ff"
   },
   "outputs": [
    {
     "name": "stdout",
     "output_type": "stream",
     "text": [
      "Required Libraries Imported!\n"
     ]
    }
   ],
   "source": [
    "import numpy as np\n",
    "import pandas as pd\n",
    "\n",
    "from bs4 import BeautifulSoup\n",
    "import requests\n",
    "import csv\n",
    "import json\n",
    "from pandas.io.json import json_normalize\n",
    "\n",
    "print(\"Required Libraries Imported!\")"
   ]
  },
  {
   "cell_type": "markdown",
   "metadata": {
    "id": "Pt_653x5OHzg"
   },
   "source": [
    "**Scrap Wikipedia page**"
   ]
  },
  {
   "cell_type": "code",
   "execution_count": 2,
   "metadata": {
    "id": "y5FDAvkZ8FDq"
   },
   "outputs": [],
   "source": [
    "# Send get request\n",
    "url = \"https://en.wikipedia.org/wiki/List_of_postal_codes_of_Canada:_M\"\n",
    "wiki_data = requests.get(url).text\n",
    "\n",
    "# parse data into BeautifulSoup object\n",
    "soup = BeautifulSoup(wiki_data, 'lxml')\n",
    "\n",
    "# visualize BeautifulSoup object\n",
    "#soup \n",
    "#use this only to visualize once"
   ]
  },
  {
   "cell_type": "code",
   "execution_count": 3,
   "metadata": {
    "colab": {
     "base_uri": "https://localhost:8080/",
     "height": 136
    },
    "id": "FNv_XIXBSymz",
    "outputId": "e9dc3e78-a33f-45c9-bbb5-23369a697fce"
   },
   "outputs": [
    {
     "ename": "SyntaxError",
     "evalue": "invalid syntax (<ipython-input-3-61496c005a47>, line 3)",
     "output_type": "error",
     "traceback": [
      "\u001b[1;36m  File \u001b[1;32m\"<ipython-input-3-61496c005a47>\"\u001b[1;36m, line \u001b[1;32m3\u001b[0m\n\u001b[1;33m    </p>\u001b[0m\n\u001b[1;37m    ^\u001b[0m\n\u001b[1;31mSyntaxError\u001b[0m\u001b[1;31m:\u001b[0m invalid syntax\n"
     ]
    }
   ],
   "source": [
    "#Let's take a look at the html code:\n",
    "\n",
    "</p>\n",
    "<table class=\"wikitable sortable\">\n",
    "<tbody><tr>\n",
    "<th>Postcode</th>       #table head - postcode\n",
    "<th>Borough</th>        #table head - borough\n",
    "<th>Neighbourhood       #table head - neighborhood\n",
    "</th></tr>\n",
    "<tr>                    #new row starts\n",
    "<td>M1A</td>            #row entry - postcode\n",
    "<td>Not assigned</td>   #row entry - borough - not assigned\n",
    "<td>Not assigned        # row entry - neighborhood - not assigned\n",
    "</td></tr>\n",
    "<tr>\n",
    "<td>M2A</td>            #likewise for new rowws ..\n",
    "<td>Not assigned</td>\n",
    "<td>Not assigned\n",
    "</td></tr>\n",
    "<tr>\n",
    "<td>M4A</td>\n",
    "<td><a href=\"/wiki/North_York\" title=\"North York\">North York</a></td>\n",
    "<td><a href=\"/wiki/Victoria_Village\" title=\"Victoria Village\">Victoria Village</a>\n",
    "</td></tr>\n",
    "<tr>\n",
    "<td>M5A</td>\n",
    "<td><a href=\"/wiki/Downtown_Toronto\" title=\"Downtown Toronto\">Downtown Toronto</a></td>\n",
    "<td><a href=\"/wiki/Harbourfront_(Toronto)\" title=\"Harbourfront (Toronto)\">Harbourfront</a>\n",
    "</td></tr>\n",
    "<tr>"
   ]
  },
  {
   "cell_type": "markdown",
   "metadata": {
    "id": "h8kuboCCR9br"
   },
   "source": [
    "Let's take a look at the html - double click the cell to see code.\n",
    "\n",
    "</p>\n",
    "<table class=\"wikitable sortable\">\n",
    "<tbody><tr>\n",
    "<th>Postcode</th>\n",
    "<th>Borough</th>\n",
    "<th>Neighbourhood\n",
    "</th></tr>\n",
    "<tr>\n",
    "<td>M1A</td>\n",
    "<td>Not assigned</td>\n",
    "<td>Not assigned\n",
    "</td></tr>\n",
    "<tr>\n",
    "<td>M2A</td>\n",
    "<td>Not assigned</td>\n",
    "<td>Not assigned\n",
    "</td></tr>\n",
    "<tr>\n",
    "<td>M3A</td>\n",
    "<td><a href=\"/wiki/North_York\" title=\"North York\">North York</a></td>\n",
    "<td><a href=\"/wiki/Parkwoods\" title=\"Parkwoods\">Parkwoods</a>\n",
    "</td></tr>\n",
    "<tr>\n",
    "<td>M4A</td>\n",
    "<td><a href=\"/wiki/North_York\" title=\"North York\">North York</a></td>\n",
    "<td><a href=\"/wiki/Victoria_Village\" title=\"Victoria Village\">Victoria Village</a>\n",
    "</td></tr>\n",
    "<tr>\n",
    "<td>M5A</td>\n",
    "<td><a href=\"/wiki/Downtown_Toronto\" title=\"Downtown Toronto\">Downtown Toronto</a></td>\n",
    "<td><a href=\"/wiki/Harbourfront_(Toronto)\" title=\"Harbourfront (Toronto)\">Harbourfront</a>\n",
    "</td></tr>\n",
    "<tr>"
   ]
  },
  {
   "cell_type": "markdown",
   "metadata": {
    "id": "8wvYnP6mmeJj"
   },
   "source": [
    "**Create Table**"
   ]
  },
  {
   "cell_type": "markdown",
   "metadata": {
    "id": "Ye04wwYHQQsp"
   },
   "source": [
    "We want the same table with 3 columns:\n",
    "* PostalCode\n",
    "* Borough\n",
    "* Neighborhood\n",
    "\n",
    "To create this table, we need to:\n",
    "1. Use *find('table')* to access the table in the html\n",
    "2. Iterate though each row in the html table ~ < tr > and capture value at each cell < td > xxx </ td >\n",
    "3. Strip the value at each cell and append relevant values to relevant column list - postcode, borough or neighborhood\n"
   ]
  },
  {
   "cell_type": "code",
   "execution_count": 4,
   "metadata": {
    "id": "xMfKYvk_PtP3"
   },
   "outputs": [],
   "source": [
    "table_contents=[]\n",
    "table=soup.find('table')\n",
    "for row in table.findAll('td'):\n",
    "    cell = {}\n",
    "    if row.span.text=='Not assigned':\n",
    "        pass\n",
    "    else:\n",
    "        cell['PostalCode'] = row.p.text[:3]\n",
    "        cell['Borough'] = (row.span.text).split('(')[0]\n",
    "        cell['Neighborhood'] = (((((row.span.text).split('(')[1]).strip(')')).replace(' /',',')).replace(')',' ')).strip(' ')\n",
    "        table_contents.append(cell)\n",
    "\n",
    "# print(table_contents)\n",
    "df=pd.DataFrame(table_contents)\n",
    "df['Borough']=df['Borough'].replace({'Downtown TorontoStn A PO Boxes25 The Esplanade':'Downtown Toronto Stn A',\n",
    "                                             'East TorontoBusiness reply mail Processing Centre969 Eastern':'East Toronto Business',\n",
    "                                             'EtobicokeNorthwest':'Etobicoke Northwest','East YorkEast Toronto':'East York/East Toronto',\n",
    "                                             'MississaugaCanada Post Gateway Processing Centre':'Mississauga'})\n"
   ]
  },
  {
   "cell_type": "code",
   "execution_count": 5,
   "metadata": {
    "colab": {
     "base_uri": "https://localhost:8080/",
     "height": 426
    },
    "id": "VB6LfNqLWI6R",
    "outputId": "99542292-0a79-4260-85c3-805d6e6773e9"
   },
   "outputs": [
    {
     "data": {
      "text/html": [
       "<div>\n",
       "<style scoped>\n",
       "    .dataframe tbody tr th:only-of-type {\n",
       "        vertical-align: middle;\n",
       "    }\n",
       "\n",
       "    .dataframe tbody tr th {\n",
       "        vertical-align: top;\n",
       "    }\n",
       "\n",
       "    .dataframe thead th {\n",
       "        text-align: right;\n",
       "    }\n",
       "</style>\n",
       "<table border=\"1\" class=\"dataframe\">\n",
       "  <thead>\n",
       "    <tr style=\"text-align: right;\">\n",
       "      <th></th>\n",
       "      <th>PostalCode</th>\n",
       "      <th>Borough</th>\n",
       "      <th>Neighborhood</th>\n",
       "    </tr>\n",
       "  </thead>\n",
       "  <tbody>\n",
       "    <tr>\n",
       "      <td>0</td>\n",
       "      <td>M3A</td>\n",
       "      <td>North York</td>\n",
       "      <td>Parkwoods</td>\n",
       "    </tr>\n",
       "    <tr>\n",
       "      <td>1</td>\n",
       "      <td>M4A</td>\n",
       "      <td>North York</td>\n",
       "      <td>Victoria Village</td>\n",
       "    </tr>\n",
       "    <tr>\n",
       "      <td>2</td>\n",
       "      <td>M5A</td>\n",
       "      <td>Downtown Toronto</td>\n",
       "      <td>Regent Park, Harbourfront</td>\n",
       "    </tr>\n",
       "    <tr>\n",
       "      <td>3</td>\n",
       "      <td>M6A</td>\n",
       "      <td>North York</td>\n",
       "      <td>Lawrence Manor, Lawrence Heights</td>\n",
       "    </tr>\n",
       "    <tr>\n",
       "      <td>4</td>\n",
       "      <td>M7A</td>\n",
       "      <td>Queen's Park</td>\n",
       "      <td>Ontario Provincial Government</td>\n",
       "    </tr>\n",
       "    <tr>\n",
       "      <td>5</td>\n",
       "      <td>M9A</td>\n",
       "      <td>Etobicoke</td>\n",
       "      <td>Islington Avenue</td>\n",
       "    </tr>\n",
       "    <tr>\n",
       "      <td>6</td>\n",
       "      <td>M1B</td>\n",
       "      <td>Scarborough</td>\n",
       "      <td>Malvern, Rouge</td>\n",
       "    </tr>\n",
       "    <tr>\n",
       "      <td>7</td>\n",
       "      <td>M3B</td>\n",
       "      <td>North York</td>\n",
       "      <td>Don Mills North</td>\n",
       "    </tr>\n",
       "    <tr>\n",
       "      <td>8</td>\n",
       "      <td>M4B</td>\n",
       "      <td>East York</td>\n",
       "      <td>Parkview Hill, Woodbine Gardens</td>\n",
       "    </tr>\n",
       "    <tr>\n",
       "      <td>9</td>\n",
       "      <td>M5B</td>\n",
       "      <td>Downtown Toronto</td>\n",
       "      <td>Garden District, Ryerson</td>\n",
       "    </tr>\n",
       "    <tr>\n",
       "      <td>10</td>\n",
       "      <td>M6B</td>\n",
       "      <td>North York</td>\n",
       "      <td>Glencairn</td>\n",
       "    </tr>\n",
       "    <tr>\n",
       "      <td>11</td>\n",
       "      <td>M9B</td>\n",
       "      <td>Etobicoke</td>\n",
       "      <td>West Deane Park, Princess Gardens, Martin Grov...</td>\n",
       "    </tr>\n",
       "  </tbody>\n",
       "</table>\n",
       "</div>"
      ],
      "text/plain": [
       "   PostalCode           Borough  \\\n",
       "0         M3A        North York   \n",
       "1         M4A        North York   \n",
       "2         M5A  Downtown Toronto   \n",
       "3         M6A        North York   \n",
       "4         M7A      Queen's Park   \n",
       "5         M9A         Etobicoke   \n",
       "6         M1B       Scarborough   \n",
       "7         M3B        North York   \n",
       "8         M4B         East York   \n",
       "9         M5B  Downtown Toronto   \n",
       "10        M6B        North York   \n",
       "11        M9B         Etobicoke   \n",
       "\n",
       "                                         Neighborhood  \n",
       "0                                           Parkwoods  \n",
       "1                                    Victoria Village  \n",
       "2                           Regent Park, Harbourfront  \n",
       "3                    Lawrence Manor, Lawrence Heights  \n",
       "4                       Ontario Provincial Government  \n",
       "5                                    Islington Avenue  \n",
       "6                                      Malvern, Rouge  \n",
       "7                                     Don Mills North  \n",
       "8                     Parkview Hill, Woodbine Gardens  \n",
       "9                            Garden District, Ryerson  \n",
       "10                                          Glencairn  \n",
       "11  West Deane Park, Princess Gardens, Martin Grov...  "
      ]
     },
     "execution_count": 5,
     "metadata": {},
     "output_type": "execute_result"
    }
   ],
   "source": [
    "df.head(12)"
   ]
  },
  {
   "cell_type": "code",
   "execution_count": 6,
   "metadata": {
    "colab": {
     "base_uri": "https://localhost:8080/"
    },
    "id": "n0-b5i3gWWuM",
    "outputId": "854e1155-6697-4411-c472-3632fdd40565"
   },
   "outputs": [
    {
     "data": {
      "text/plain": [
       "(103, 3)"
      ]
     },
     "execution_count": 6,
     "metadata": {},
     "output_type": "execute_result"
    }
   ],
   "source": [
    "# Display Shape\n",
    "df.shape"
   ]
  },
  {
   "cell_type": "code",
   "execution_count": 7,
   "metadata": {
    "id": "4a1m_BIzlG99"
   },
   "outputs": [],
   "source": [
    "#Convert the postcode dataframe to csv for use in the next exercice\n",
    "df.to_csv('toronto_postcode.csv', index = False)"
   ]
  },
  {
   "cell_type": "code",
   "execution_count": null,
   "metadata": {
    "id": "ukm8qaMhZeT1"
   },
   "outputs": [],
   "source": []
  }
 ],
 "metadata": {
  "colab": {
   "name": "Week_3_1_Neighborhood_Segmentation_clustering.ipynb",
   "provenance": []
  },
  "kernelspec": {
   "display_name": "Python 3",
   "language": "python",
   "name": "python3"
  },
  "language_info": {
   "codemirror_mode": {
    "name": "ipython",
    "version": 3
   },
   "file_extension": ".py",
   "mimetype": "text/x-python",
   "name": "python",
   "nbconvert_exporter": "python",
   "pygments_lexer": "ipython3",
   "version": "3.7.4"
  }
 },
 "nbformat": 4,
 "nbformat_minor": 1
}
